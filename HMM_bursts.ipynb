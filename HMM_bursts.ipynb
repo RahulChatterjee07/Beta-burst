{
  "nbformat": 4,
  "nbformat_minor": 0,
  "metadata": {
    "colab": {
      "provenance": []
    },
    "kernelspec": {
      "name": "python3",
      "display_name": "Python 3"
    },
    "language_info": {
      "name": "python"
    }
  },
  "cells": [
    {
      "cell_type": "code",
      "execution_count": null,
      "metadata": {
        "id": "DTBz1tH7RYD7"
      },
      "outputs": [],
      "source": [
        "!pip install hmmlearn\n",
        "!pip install mne\n",
        "\n",
        "from hmmlearn import hmm"
      ]
    },
    {
      "cell_type": "code",
      "source": [
        "import numpy as np\n",
        "from sklearn.decomposition import PCA\n",
        "#from hmmlearn import hmm\n",
        "import numpy as np\n",
        "import scipy.signal as signal\n",
        "import matplotlib.pyplot as plt\n",
        "from scipy import signal\n",
        "from numpy.random import default_rng"
      ],
      "metadata": {
        "id": "M0gH_g91Raf6"
      },
      "execution_count": null,
      "outputs": []
    },
    {
      "cell_type": "markdown",
      "source": [
        "Upload .CSV file"
      ],
      "metadata": {
        "id": "g90udAphRhGP"
      }
    },
    {
      "cell_type": "code",
      "source": [
        "from google.colab import files\n",
        "uploaded = files.upload()"
      ],
      "metadata": {
        "id": "lvk_hW3iRdYw"
      },
      "execution_count": null,
      "outputs": []
    },
    {
      "cell_type": "code",
      "source": [
        "import pandas as pd\n",
        "df = pd.read_csv ('Bimanual_old.csv',header=None)\n",
        "df=df.loc[~(df==0).all(axis=1)]"
      ],
      "metadata": {
        "id": "Zhqfij7JRfkE"
      },
      "execution_count": null,
      "outputs": []
    },
    {
      "cell_type": "markdown",
      "source": [
        "Select interval"
      ],
      "metadata": {
        "id": "dIjZwNPtRstp"
      }
    },
    {
      "cell_type": "code",
      "source": [
        "df1 = df.iloc[:,300:540] ## sampling freq = 120 Hz; (300: 540) means 0 to 2 sec of time_series data"
      ],
      "metadata": {
        "id": "F2sVg43wRvpH"
      },
      "execution_count": null,
      "outputs": []
    },
    {
      "cell_type": "markdown",
      "source": [
        "Extracting bursts and computing burst charcateristics"
      ],
      "metadata": {
        "id": "D0Ws0EGyTd8E"
      }
    },
    {
      "cell_type": "code",
      "source": [
        "from typing import List\n",
        "res1 = [[0] * 3 for i in range(len(df1))]\n",
        "#res1= []\n",
        "res1[0].append('rate')\n",
        "res1[0].append('ampl')\n",
        "res1[0].append('duration')\n",
        "\n",
        "for tr in range (1,len(df1)):\n",
        "  \n",
        "  z = []\n",
        "  q = []\n",
        "  w = []\n",
        "  b_state = []\n",
        "\n",
        "## Extracting beta wave from raw MEG signal\n",
        "  sos = signal.butter(5, [15, 29], 'bandpass', fs=120, output='sos')\n",
        "  filtered = signal.sosfilt(sos,df1.iloc[tr] )\n",
        "  analytic_signal = signal.hilbert(filtered)\n",
        "  amplitude_envelope = np.abs(analytic_signal)\n",
        "  amplitude_envelope = signal.detrend(amplitude_envelope, type = 'linear')\n",
        "  #threshold = np.percentile(amplitude_envelope,75)\n",
        "  #z = amplitude_envelope>threshold\n",
        "\n",
        "## HMM implemetation \n",
        "\n",
        "  remodel = hmm.GMMHMM(n_components=2,covariance_type=\"full\", n_iter=100)\n",
        "  remodel.fit(amplitude_envelope.reshape(-1, 1))\n",
        "  proba = remodel.predict_proba(amplitude_envelope.reshape(-1, 1))\n",
        "\n",
        "## setting state_prob == 0.66\n",
        "\n",
        "  q =proba[:, 0]\n",
        "  q[q > 0.66] = 1\n",
        "  q[q < 0.66] = 0\n",
        "\n",
        "  w=proba[:, 1]\n",
        "  w[w > 0.66] = 1\n",
        "  w[w < 0.66] = 0\n",
        "\n",
        "  \n",
        "  if np.mean(w!=z) > np.mean(q!=z):\n",
        "    b_state = q\n",
        "  else:\n",
        "    b_state = w\n",
        "  \n",
        "  j_1=0\n",
        "  \n",
        "## Computing burst charcateristics (rate, ampl, duration) \n",
        "\n",
        "  from itertools import groupby\n",
        "  grouped_l= []\n",
        "  grouped_l = [k for k,g in groupby(b_state)]\n",
        "\n",
        "  grouped_l1= []\n",
        "  grouped_l3= []\n",
        "  grouped_l4= []\n",
        "  for k,g in groupby(b_state):\n",
        "    j_1 = j_1 +sum(1 for i in g)\n",
        "    grouped_l1.append (j_1)\n",
        "  o=0\n",
        "  bamp=0\n",
        "  bduration_1 = 0\n",
        "  bamp_f_1 =0\n",
        "  if grouped_l[0]==1:\n",
        "    o=0\n",
        "    bamp =0\n",
        "    o= sum(b_state[0:grouped_l1[0]])\n",
        "    \n",
        "    bamp = bamp+ max(amplitude_envelope[0:grouped_l1[0]])\n",
        "    if o > 12:\n",
        "\n",
        "      grouped_l3.append(o)\n",
        "      grouped_l4.append(bamp)\n",
        "    for i in range(1,len(grouped_l1)-1,2):\n",
        "      o = 0\n",
        "      bamp = 0\n",
        "      o = o+ sum(b_state[grouped_l1[i]:grouped_l1[i+1]])\n",
        "      bamp = bamp+ max(amplitude_envelope[grouped_l1[i]:grouped_l1[i+1]])\n",
        "  #o = o+ sum(q[(i-1):grouped_L1[i]])\n",
        "      \n",
        " ## setting minimum burst duration threshold, 12 means 12/sampling freq = 100 ms;     \n",
        "      \n",
        "      if o > 12:\n",
        "        grouped_l3.append(o)\n",
        "        grouped_l4.append(bamp)\n",
        "      o = 0\n",
        "\n",
        "  else:\n",
        "    for i in range(0,len(grouped_l1)-1,2):\n",
        "      o = 0\n",
        "      bamp = 0\n",
        "      o = o+ sum(b_state[grouped_l1[i]:grouped_l1[i+1]])\n",
        "      bamp = bamp+ max(amplitude_envelope[grouped_l1[i]:grouped_l1[i+1]])\n",
        "    #o = o+ sum(q[(i-1):grouped_L1[i]])\n",
        "      if o > 12:\n",
        "        grouped_l3.append(o)\n",
        "        grouped_l4.append(bamp)\n",
        "      o=0\n",
        "  res1[tr].append(len (grouped_l3)/2)\n",
        "  if sum(grouped_l3) ==0:\n",
        "    bamp_f_1 = 0\n",
        "    bduration_1 =0\n",
        "  else:\n",
        "  \n",
        "    bamp_f_1 =  grouped_l4\n",
        "    bduration_1 = sum(grouped_l3)/len (grouped_l3)\n",
        "  res1[tr].append(np.mean(bamp_f_1))\n",
        "  \n",
        "  res1[tr].append(bduration_1*8.333)"
      ],
      "metadata": {
        "id": "VOJ1lvO4SM3w"
      },
      "execution_count": null,
      "outputs": []
    },
    {
      "cell_type": "code",
      "source": [
        "import numpy as np\n",
        "np.savetxt(\"file_name.csv\", res1, delimiter=\",\", fmt='%s')"
      ],
      "metadata": {
        "id": "Ae1fHLag74kZ"
      },
      "execution_count": null,
      "outputs": []
    },
    {
      "cell_type": "code",
      "source": [
        "files.download('file_name.csv') ## each row of csv file corresponds to burst characteristics of each trial of the selected interval "
      ],
      "metadata": {
        "id": "sHzRqVSe74ow"
      },
      "execution_count": null,
      "outputs": []
    }
  ]
}